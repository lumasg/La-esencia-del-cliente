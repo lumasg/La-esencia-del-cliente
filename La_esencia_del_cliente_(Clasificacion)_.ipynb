{
  "nbformat": 4,
  "nbformat_minor": 0,
  "metadata": {
    "colab": {
      "provenance": [],
      "include_colab_link": true
    },
    "kernelspec": {
      "name": "python3",
      "display_name": "Python 3"
    },
    "language_info": {
      "name": "python"
    }
  },
  "cells": [
    {
      "cell_type": "markdown",
      "metadata": {
        "id": "view-in-github",
        "colab_type": "text"
      },
      "source": [
        "<a href=\"https://colab.research.google.com/github/lumasg/La-esencia-del-cliente/blob/main/La_esencia_del_cliente_(Clasificacion)_.ipynb\" target=\"_parent\"><img src=\"https://colab.research.google.com/assets/colab-badge.svg\" alt=\"Open In Colab\"/></a>"
      ]
    },
    {
      "cell_type": "markdown",
      "source": [
        "##***Esencia del Cliente (Clasificacion)***\n",
        "\n",
        "Los directivos de la cadena de supermercados Universal Food hicieron un descubrimiento preocupante: hay miles de clientes que aún no son miembros de ninguna categoría, lo que impide brindarles una experiencia de compra excepcional. Por este motivo, tu misión como científico de datos es la de clasificar a estos clientes como miembros Bronce, Plata u Oro, para que puedan disfrutar de todas las ventajas que ofrece esta reconocida cadena de supermercados y mejorar así su experiencia de compra.."
      ],
      "metadata": {
        "id": "eF-IjoA_Xf1H"
      }
    },
    {
      "cell_type": "code",
      "execution_count": null,
      "metadata": {
        "id": "ZEV5N_3SXHiJ"
      },
      "outputs": [],
      "source": [
        "import warnings\n",
        "import pandas as pd\n",
        "import numpy as np\n",
        "import matplotlib.pyplot as plt\n",
        "import seaborn as sns\n",
        "import sklearn\n",
        "warnings.filterwarnings(\"ignore\", category=FutureWarning)"
      ]
    },
    {
      "cell_type": "code",
      "source": [
        "df = pd.read_csv(\"/content/dataclientes\")"
      ],
      "metadata": {
        "id": "9DerIpDjYgof"
      },
      "execution_count": null,
      "outputs": []
    },
    {
      "cell_type": "code",
      "source": [
        "data = df[[\"genero\", \"estado_civil\", \"total_de_hijos\", \"escolaridad\",\"miembro\", \"tipo\", \"ocupacion\", \"pais\", \"comercio\"]]"
      ],
      "metadata": {
        "id": "hWaWk0nMZWPN"
      },
      "execution_count": null,
      "outputs": []
    },
    {
      "cell_type": "code",
      "source": [
        "data.miembro.value_counts()"
      ],
      "metadata": {
        "colab": {
          "base_uri": "https://localhost:8080/"
        },
        "id": "d3Wru3s2dqVT",
        "outputId": "7704bc80-1f16-4dd3-dcba-7127d775c8a3"
      },
      "execution_count": null,
      "outputs": [
        {
          "output_type": "execute_result",
          "data": {
            "text/plain": [
              "Bronce    13407\n",
              "Normal     5581\n",
              "Oro        2959\n",
              "Plata      2154\n",
              "Name: miembro, dtype: int64"
            ]
          },
          "metadata": {},
          "execution_count": 4
        }
      ]
    },
    {
      "cell_type": "code",
      "source": [
        "data = data[data['miembro'] != \"Normal\"]"
      ],
      "metadata": {
        "id": "CLQ3RD3eekDI"
      },
      "execution_count": null,
      "outputs": []
    },
    {
      "cell_type": "code",
      "source": [
        "data.info()"
      ],
      "metadata": {
        "colab": {
          "base_uri": "https://localhost:8080/"
        },
        "id": "5ldvNlIgfLNs",
        "outputId": "d7da6861-7b67-4e75-9d88-60321f488946"
      },
      "execution_count": null,
      "outputs": [
        {
          "output_type": "stream",
          "name": "stdout",
          "text": [
            "<class 'pandas.core.frame.DataFrame'>\n",
            "Int64Index: 46561 entries, 1 to 60427\n",
            "Data columns (total 9 columns):\n",
            " #   Column          Non-Null Count  Dtype  \n",
            "---  ------          --------------  -----  \n",
            " 0   genero          46561 non-null  object \n",
            " 1   estado_civil    46561 non-null  object \n",
            " 2   total_de_hijos  46561 non-null  float64\n",
            " 3   escolaridad     46561 non-null  object \n",
            " 4   miembro         46561 non-null  object \n",
            " 5   tipo            46561 non-null  object \n",
            " 6   ocupacion       46561 non-null  object \n",
            " 7   pais            46561 non-null  object \n",
            " 8   comercio        46561 non-null  object \n",
            "dtypes: float64(1), object(8)\n",
            "memory usage: 3.6+ MB\n"
          ]
        }
      ]
    },
    {
      "cell_type": "code",
      "source": [
        "genero = {\"Femenino\" : 0, \"Masculino\" : 1}\n",
        "edocivil = {\"Soltero\" : 0, \"Casado\" : 1}\n",
        "escolaridad = {\"Primaria\" : 1, \"Secundaria\" : 2, \"Técnico\" : 3, \"Superior\" : 4, \"Maestría\" : 5 }\n",
        "ocupacion = { 'Obrero' : 1 , 'Técnico' : 2 ,  'Profesional' : 3 ,'Gestión' : 2 , 'Cargo de Oficina' : 3}\n",
        "miembro = {'Bronce' : 1, 'Plata': 2, 'Oro' : 3}\n",
        "\n",
        "\n",
        "data.genero = data.genero.map(genero)\n",
        "data[\"estado_civil\"] = data[\"estado_civil\"].map(edocivil)\n",
        "data.escolaridad = data.escolaridad.map(escolaridad)\n",
        "data.ocupacion = data.ocupacion.map(ocupacion)\n",
        "data.miembro = data.miembro.map(miembro)"
      ],
      "metadata": {
        "id": "u6huQX85czdI"
      },
      "execution_count": null,
      "outputs": []
    },
    {
      "cell_type": "code",
      "source": [
        "data.sample(1)"
      ],
      "metadata": {
        "colab": {
          "base_uri": "https://localhost:8080/",
          "height": 89
        },
        "id": "duOLf9YDZg-f",
        "outputId": "f0f41d88-8bc0-44bf-b2c6-5476e75b0e06"
      },
      "execution_count": null,
      "outputs": [
        {
          "output_type": "execute_result",
          "data": {
            "text/plain": [
              "       genero  estado_civil  total_de_hijos  escolaridad  miembro    tipo  \\\n",
              "16376       1             1             3.0            4        1  Bebida   \n",
              "\n",
              "       ocupacion    pais              comercio  \n",
              "16376          3  México  Supermercado de lujo  "
            ],
            "text/html": [
              "\n",
              "  <div id=\"df-14a758a1-9810-4b11-978e-441f48060a1f\" class=\"colab-df-container\">\n",
              "    <div>\n",
              "<style scoped>\n",
              "    .dataframe tbody tr th:only-of-type {\n",
              "        vertical-align: middle;\n",
              "    }\n",
              "\n",
              "    .dataframe tbody tr th {\n",
              "        vertical-align: top;\n",
              "    }\n",
              "\n",
              "    .dataframe thead th {\n",
              "        text-align: right;\n",
              "    }\n",
              "</style>\n",
              "<table border=\"1\" class=\"dataframe\">\n",
              "  <thead>\n",
              "    <tr style=\"text-align: right;\">\n",
              "      <th></th>\n",
              "      <th>genero</th>\n",
              "      <th>estado_civil</th>\n",
              "      <th>total_de_hijos</th>\n",
              "      <th>escolaridad</th>\n",
              "      <th>miembro</th>\n",
              "      <th>tipo</th>\n",
              "      <th>ocupacion</th>\n",
              "      <th>pais</th>\n",
              "      <th>comercio</th>\n",
              "    </tr>\n",
              "  </thead>\n",
              "  <tbody>\n",
              "    <tr>\n",
              "      <th>16376</th>\n",
              "      <td>1</td>\n",
              "      <td>1</td>\n",
              "      <td>3.0</td>\n",
              "      <td>4</td>\n",
              "      <td>1</td>\n",
              "      <td>Bebida</td>\n",
              "      <td>3</td>\n",
              "      <td>México</td>\n",
              "      <td>Supermercado de lujo</td>\n",
              "    </tr>\n",
              "  </tbody>\n",
              "</table>\n",
              "</div>\n",
              "    <div class=\"colab-df-buttons\">\n",
              "\n",
              "  <div class=\"colab-df-container\">\n",
              "    <button class=\"colab-df-convert\" onclick=\"convertToInteractive('df-14a758a1-9810-4b11-978e-441f48060a1f')\"\n",
              "            title=\"Convert this dataframe to an interactive table.\"\n",
              "            style=\"display:none;\">\n",
              "\n",
              "  <svg xmlns=\"http://www.w3.org/2000/svg\" height=\"24px\" viewBox=\"0 -960 960 960\">\n",
              "    <path d=\"M120-120v-720h720v720H120Zm60-500h600v-160H180v160Zm220 220h160v-160H400v160Zm0 220h160v-160H400v160ZM180-400h160v-160H180v160Zm440 0h160v-160H620v160ZM180-180h160v-160H180v160Zm440 0h160v-160H620v160Z\"/>\n",
              "  </svg>\n",
              "    </button>\n",
              "\n",
              "  <style>\n",
              "    .colab-df-container {\n",
              "      display:flex;\n",
              "      gap: 12px;\n",
              "    }\n",
              "\n",
              "    .colab-df-convert {\n",
              "      background-color: #E8F0FE;\n",
              "      border: none;\n",
              "      border-radius: 50%;\n",
              "      cursor: pointer;\n",
              "      display: none;\n",
              "      fill: #1967D2;\n",
              "      height: 32px;\n",
              "      padding: 0 0 0 0;\n",
              "      width: 32px;\n",
              "    }\n",
              "\n",
              "    .colab-df-convert:hover {\n",
              "      background-color: #E2EBFA;\n",
              "      box-shadow: 0px 1px 2px rgba(60, 64, 67, 0.3), 0px 1px 3px 1px rgba(60, 64, 67, 0.15);\n",
              "      fill: #174EA6;\n",
              "    }\n",
              "\n",
              "    .colab-df-buttons div {\n",
              "      margin-bottom: 4px;\n",
              "    }\n",
              "\n",
              "    [theme=dark] .colab-df-convert {\n",
              "      background-color: #3B4455;\n",
              "      fill: #D2E3FC;\n",
              "    }\n",
              "\n",
              "    [theme=dark] .colab-df-convert:hover {\n",
              "      background-color: #434B5C;\n",
              "      box-shadow: 0px 1px 3px 1px rgba(0, 0, 0, 0.15);\n",
              "      filter: drop-shadow(0px 1px 2px rgba(0, 0, 0, 0.3));\n",
              "      fill: #FFFFFF;\n",
              "    }\n",
              "  </style>\n",
              "\n",
              "    <script>\n",
              "      const buttonEl =\n",
              "        document.querySelector('#df-14a758a1-9810-4b11-978e-441f48060a1f button.colab-df-convert');\n",
              "      buttonEl.style.display =\n",
              "        google.colab.kernel.accessAllowed ? 'block' : 'none';\n",
              "\n",
              "      async function convertToInteractive(key) {\n",
              "        const element = document.querySelector('#df-14a758a1-9810-4b11-978e-441f48060a1f');\n",
              "        const dataTable =\n",
              "          await google.colab.kernel.invokeFunction('convertToInteractive',\n",
              "                                                    [key], {});\n",
              "        if (!dataTable) return;\n",
              "\n",
              "        const docLinkHtml = 'Like what you see? Visit the ' +\n",
              "          '<a target=\"_blank\" href=https://colab.research.google.com/notebooks/data_table.ipynb>data table notebook</a>'\n",
              "          + ' to learn more about interactive tables.';\n",
              "        element.innerHTML = '';\n",
              "        dataTable['output_type'] = 'display_data';\n",
              "        await google.colab.output.renderOutput(dataTable, element);\n",
              "        const docLink = document.createElement('div');\n",
              "        docLink.innerHTML = docLinkHtml;\n",
              "        element.appendChild(docLink);\n",
              "      }\n",
              "    </script>\n",
              "  </div>\n",
              "\n",
              "\n",
              "<div id=\"df-f2f026dd-2fc8-4cec-9d23-054d6bbc995d\">\n",
              "  <button class=\"colab-df-quickchart\" onclick=\"quickchart('df-f2f026dd-2fc8-4cec-9d23-054d6bbc995d')\"\n",
              "            title=\"Suggest charts.\"\n",
              "            style=\"display:none;\">\n",
              "\n",
              "<svg xmlns=\"http://www.w3.org/2000/svg\" height=\"24px\"viewBox=\"0 0 24 24\"\n",
              "     width=\"24px\">\n",
              "    <g>\n",
              "        <path d=\"M19 3H5c-1.1 0-2 .9-2 2v14c0 1.1.9 2 2 2h14c1.1 0 2-.9 2-2V5c0-1.1-.9-2-2-2zM9 17H7v-7h2v7zm4 0h-2V7h2v10zm4 0h-2v-4h2v4z\"/>\n",
              "    </g>\n",
              "</svg>\n",
              "  </button>\n",
              "\n",
              "<style>\n",
              "  .colab-df-quickchart {\n",
              "    background-color: #E8F0FE;\n",
              "    border: none;\n",
              "    border-radius: 50%;\n",
              "    cursor: pointer;\n",
              "    display: none;\n",
              "    fill: #1967D2;\n",
              "    height: 32px;\n",
              "    padding: 0 0 0 0;\n",
              "    width: 32px;\n",
              "  }\n",
              "\n",
              "  .colab-df-quickchart:hover {\n",
              "    background-color: #E2EBFA;\n",
              "    box-shadow: 0px 1px 2px rgba(60, 64, 67, 0.3), 0px 1px 3px 1px rgba(60, 64, 67, 0.15);\n",
              "    fill: #174EA6;\n",
              "  }\n",
              "\n",
              "  [theme=dark] .colab-df-quickchart {\n",
              "    background-color: #3B4455;\n",
              "    fill: #D2E3FC;\n",
              "  }\n",
              "\n",
              "  [theme=dark] .colab-df-quickchart:hover {\n",
              "    background-color: #434B5C;\n",
              "    box-shadow: 0px 1px 3px 1px rgba(0, 0, 0, 0.15);\n",
              "    filter: drop-shadow(0px 1px 2px rgba(0, 0, 0, 0.3));\n",
              "    fill: #FFFFFF;\n",
              "  }\n",
              "</style>\n",
              "\n",
              "  <script>\n",
              "    async function quickchart(key) {\n",
              "      const charts = await google.colab.kernel.invokeFunction(\n",
              "          'suggestCharts', [key], {});\n",
              "    }\n",
              "    (() => {\n",
              "      let quickchartButtonEl =\n",
              "        document.querySelector('#df-f2f026dd-2fc8-4cec-9d23-054d6bbc995d button');\n",
              "      quickchartButtonEl.style.display =\n",
              "        google.colab.kernel.accessAllowed ? 'block' : 'none';\n",
              "    })();\n",
              "  </script>\n",
              "</div>\n",
              "    </div>\n",
              "  </div>\n"
            ]
          },
          "metadata": {},
          "execution_count": 7
        }
      ]
    },
    {
      "cell_type": "code",
      "source": [],
      "metadata": {
        "id": "ATtZyhmYexL3"
      },
      "execution_count": null,
      "outputs": []
    },
    {
      "cell_type": "markdown",
      "source": [
        "## 3. Exploración y selección de atributos\n",
        "\n",
        "Correlación"
      ],
      "metadata": {
        "id": "OHI-mN8UbxqF"
      }
    },
    {
      "cell_type": "code",
      "source": [
        "correlacion = data.corr()\n",
        "correlacion"
      ],
      "metadata": {
        "colab": {
          "base_uri": "https://localhost:8080/",
          "height": 294
        },
        "id": "S3-O6CVzZu7q",
        "outputId": "3fa2ede4-2bd4-4d37-e0d9-411fbc54aef9"
      },
      "execution_count": null,
      "outputs": [
        {
          "output_type": "stream",
          "name": "stderr",
          "text": [
            "<ipython-input-8-2812bb356113>:1: FutureWarning: The default value of numeric_only in DataFrame.corr is deprecated. In a future version, it will default to False. Select only valid columns or specify the value of numeric_only to silence this warning.\n",
            "  correlacion = data.corr()\n"
          ]
        },
        {
          "output_type": "execute_result",
          "data": {
            "text/plain": [
              "                  genero  estado_civil  total_de_hijos  escolaridad   miembro  \\\n",
              "genero          1.000000     -0.025046       -0.024954    -0.014307  0.037591   \n",
              "estado_civil   -0.025046      1.000000        0.046714     0.003693  0.263120   \n",
              "total_de_hijos -0.024954      0.046714        1.000000    -0.065056  0.243584   \n",
              "escolaridad    -0.014307      0.003693       -0.065056     1.000000 -0.049957   \n",
              "miembro         0.037591      0.263120        0.243584    -0.049957  1.000000   \n",
              "ocupacion      -0.029664      0.020481       -0.047944     0.513692 -0.004398   \n",
              "\n",
              "                ocupacion  \n",
              "genero          -0.029664  \n",
              "estado_civil     0.020481  \n",
              "total_de_hijos  -0.047944  \n",
              "escolaridad      0.513692  \n",
              "miembro         -0.004398  \n",
              "ocupacion        1.000000  "
            ],
            "text/html": [
              "\n",
              "  <div id=\"df-503c3c38-8253-4c0f-bac3-1e39ac9cc4ff\" class=\"colab-df-container\">\n",
              "    <div>\n",
              "<style scoped>\n",
              "    .dataframe tbody tr th:only-of-type {\n",
              "        vertical-align: middle;\n",
              "    }\n",
              "\n",
              "    .dataframe tbody tr th {\n",
              "        vertical-align: top;\n",
              "    }\n",
              "\n",
              "    .dataframe thead th {\n",
              "        text-align: right;\n",
              "    }\n",
              "</style>\n",
              "<table border=\"1\" class=\"dataframe\">\n",
              "  <thead>\n",
              "    <tr style=\"text-align: right;\">\n",
              "      <th></th>\n",
              "      <th>genero</th>\n",
              "      <th>estado_civil</th>\n",
              "      <th>total_de_hijos</th>\n",
              "      <th>escolaridad</th>\n",
              "      <th>miembro</th>\n",
              "      <th>ocupacion</th>\n",
              "    </tr>\n",
              "  </thead>\n",
              "  <tbody>\n",
              "    <tr>\n",
              "      <th>genero</th>\n",
              "      <td>1.000000</td>\n",
              "      <td>-0.025046</td>\n",
              "      <td>-0.024954</td>\n",
              "      <td>-0.014307</td>\n",
              "      <td>0.037591</td>\n",
              "      <td>-0.029664</td>\n",
              "    </tr>\n",
              "    <tr>\n",
              "      <th>estado_civil</th>\n",
              "      <td>-0.025046</td>\n",
              "      <td>1.000000</td>\n",
              "      <td>0.046714</td>\n",
              "      <td>0.003693</td>\n",
              "      <td>0.263120</td>\n",
              "      <td>0.020481</td>\n",
              "    </tr>\n",
              "    <tr>\n",
              "      <th>total_de_hijos</th>\n",
              "      <td>-0.024954</td>\n",
              "      <td>0.046714</td>\n",
              "      <td>1.000000</td>\n",
              "      <td>-0.065056</td>\n",
              "      <td>0.243584</td>\n",
              "      <td>-0.047944</td>\n",
              "    </tr>\n",
              "    <tr>\n",
              "      <th>escolaridad</th>\n",
              "      <td>-0.014307</td>\n",
              "      <td>0.003693</td>\n",
              "      <td>-0.065056</td>\n",
              "      <td>1.000000</td>\n",
              "      <td>-0.049957</td>\n",
              "      <td>0.513692</td>\n",
              "    </tr>\n",
              "    <tr>\n",
              "      <th>miembro</th>\n",
              "      <td>0.037591</td>\n",
              "      <td>0.263120</td>\n",
              "      <td>0.243584</td>\n",
              "      <td>-0.049957</td>\n",
              "      <td>1.000000</td>\n",
              "      <td>-0.004398</td>\n",
              "    </tr>\n",
              "    <tr>\n",
              "      <th>ocupacion</th>\n",
              "      <td>-0.029664</td>\n",
              "      <td>0.020481</td>\n",
              "      <td>-0.047944</td>\n",
              "      <td>0.513692</td>\n",
              "      <td>-0.004398</td>\n",
              "      <td>1.000000</td>\n",
              "    </tr>\n",
              "  </tbody>\n",
              "</table>\n",
              "</div>\n",
              "    <div class=\"colab-df-buttons\">\n",
              "\n",
              "  <div class=\"colab-df-container\">\n",
              "    <button class=\"colab-df-convert\" onclick=\"convertToInteractive('df-503c3c38-8253-4c0f-bac3-1e39ac9cc4ff')\"\n",
              "            title=\"Convert this dataframe to an interactive table.\"\n",
              "            style=\"display:none;\">\n",
              "\n",
              "  <svg xmlns=\"http://www.w3.org/2000/svg\" height=\"24px\" viewBox=\"0 -960 960 960\">\n",
              "    <path d=\"M120-120v-720h720v720H120Zm60-500h600v-160H180v160Zm220 220h160v-160H400v160Zm0 220h160v-160H400v160ZM180-400h160v-160H180v160Zm440 0h160v-160H620v160ZM180-180h160v-160H180v160Zm440 0h160v-160H620v160Z\"/>\n",
              "  </svg>\n",
              "    </button>\n",
              "\n",
              "  <style>\n",
              "    .colab-df-container {\n",
              "      display:flex;\n",
              "      gap: 12px;\n",
              "    }\n",
              "\n",
              "    .colab-df-convert {\n",
              "      background-color: #E8F0FE;\n",
              "      border: none;\n",
              "      border-radius: 50%;\n",
              "      cursor: pointer;\n",
              "      display: none;\n",
              "      fill: #1967D2;\n",
              "      height: 32px;\n",
              "      padding: 0 0 0 0;\n",
              "      width: 32px;\n",
              "    }\n",
              "\n",
              "    .colab-df-convert:hover {\n",
              "      background-color: #E2EBFA;\n",
              "      box-shadow: 0px 1px 2px rgba(60, 64, 67, 0.3), 0px 1px 3px 1px rgba(60, 64, 67, 0.15);\n",
              "      fill: #174EA6;\n",
              "    }\n",
              "\n",
              "    .colab-df-buttons div {\n",
              "      margin-bottom: 4px;\n",
              "    }\n",
              "\n",
              "    [theme=dark] .colab-df-convert {\n",
              "      background-color: #3B4455;\n",
              "      fill: #D2E3FC;\n",
              "    }\n",
              "\n",
              "    [theme=dark] .colab-df-convert:hover {\n",
              "      background-color: #434B5C;\n",
              "      box-shadow: 0px 1px 3px 1px rgba(0, 0, 0, 0.15);\n",
              "      filter: drop-shadow(0px 1px 2px rgba(0, 0, 0, 0.3));\n",
              "      fill: #FFFFFF;\n",
              "    }\n",
              "  </style>\n",
              "\n",
              "    <script>\n",
              "      const buttonEl =\n",
              "        document.querySelector('#df-503c3c38-8253-4c0f-bac3-1e39ac9cc4ff button.colab-df-convert');\n",
              "      buttonEl.style.display =\n",
              "        google.colab.kernel.accessAllowed ? 'block' : 'none';\n",
              "\n",
              "      async function convertToInteractive(key) {\n",
              "        const element = document.querySelector('#df-503c3c38-8253-4c0f-bac3-1e39ac9cc4ff');\n",
              "        const dataTable =\n",
              "          await google.colab.kernel.invokeFunction('convertToInteractive',\n",
              "                                                    [key], {});\n",
              "        if (!dataTable) return;\n",
              "\n",
              "        const docLinkHtml = 'Like what you see? Visit the ' +\n",
              "          '<a target=\"_blank\" href=https://colab.research.google.com/notebooks/data_table.ipynb>data table notebook</a>'\n",
              "          + ' to learn more about interactive tables.';\n",
              "        element.innerHTML = '';\n",
              "        dataTable['output_type'] = 'display_data';\n",
              "        await google.colab.output.renderOutput(dataTable, element);\n",
              "        const docLink = document.createElement('div');\n",
              "        docLink.innerHTML = docLinkHtml;\n",
              "        element.appendChild(docLink);\n",
              "      }\n",
              "    </script>\n",
              "  </div>\n",
              "\n",
              "\n",
              "<div id=\"df-cc29dd12-1471-4130-b2e5-f25567f7c355\">\n",
              "  <button class=\"colab-df-quickchart\" onclick=\"quickchart('df-cc29dd12-1471-4130-b2e5-f25567f7c355')\"\n",
              "            title=\"Suggest charts.\"\n",
              "            style=\"display:none;\">\n",
              "\n",
              "<svg xmlns=\"http://www.w3.org/2000/svg\" height=\"24px\"viewBox=\"0 0 24 24\"\n",
              "     width=\"24px\">\n",
              "    <g>\n",
              "        <path d=\"M19 3H5c-1.1 0-2 .9-2 2v14c0 1.1.9 2 2 2h14c1.1 0 2-.9 2-2V5c0-1.1-.9-2-2-2zM9 17H7v-7h2v7zm4 0h-2V7h2v10zm4 0h-2v-4h2v4z\"/>\n",
              "    </g>\n",
              "</svg>\n",
              "  </button>\n",
              "\n",
              "<style>\n",
              "  .colab-df-quickchart {\n",
              "    background-color: #E8F0FE;\n",
              "    border: none;\n",
              "    border-radius: 50%;\n",
              "    cursor: pointer;\n",
              "    display: none;\n",
              "    fill: #1967D2;\n",
              "    height: 32px;\n",
              "    padding: 0 0 0 0;\n",
              "    width: 32px;\n",
              "  }\n",
              "\n",
              "  .colab-df-quickchart:hover {\n",
              "    background-color: #E2EBFA;\n",
              "    box-shadow: 0px 1px 2px rgba(60, 64, 67, 0.3), 0px 1px 3px 1px rgba(60, 64, 67, 0.15);\n",
              "    fill: #174EA6;\n",
              "  }\n",
              "\n",
              "  [theme=dark] .colab-df-quickchart {\n",
              "    background-color: #3B4455;\n",
              "    fill: #D2E3FC;\n",
              "  }\n",
              "\n",
              "  [theme=dark] .colab-df-quickchart:hover {\n",
              "    background-color: #434B5C;\n",
              "    box-shadow: 0px 1px 3px 1px rgba(0, 0, 0, 0.15);\n",
              "    filter: drop-shadow(0px 1px 2px rgba(0, 0, 0, 0.3));\n",
              "    fill: #FFFFFF;\n",
              "  }\n",
              "</style>\n",
              "\n",
              "  <script>\n",
              "    async function quickchart(key) {\n",
              "      const charts = await google.colab.kernel.invokeFunction(\n",
              "          'suggestCharts', [key], {});\n",
              "    }\n",
              "    (() => {\n",
              "      let quickchartButtonEl =\n",
              "        document.querySelector('#df-cc29dd12-1471-4130-b2e5-f25567f7c355 button');\n",
              "      quickchartButtonEl.style.display =\n",
              "        google.colab.kernel.accessAllowed ? 'block' : 'none';\n",
              "    })();\n",
              "  </script>\n",
              "</div>\n",
              "    </div>\n",
              "  </div>\n"
            ]
          },
          "metadata": {},
          "execution_count": 8
        }
      ]
    },
    {
      "cell_type": "code",
      "source": [
        "#visualización de las correlaciones\n",
        "cores = sns.color_palette('light:salmon', as_cmap=True)\n",
        "mask = np.zeros_like(correlacion)\n",
        "mask[np.triu_indices_from(mask)] = True\n",
        "with sns.axes_style(\"white\"):\n",
        "    f, ax = plt.subplots(figsize=(13, 8))\n",
        "    ax = sns.heatmap(correlacion, cmap=cores, mask=mask, square=True, fmt='.2f', annot=True)"
      ],
      "metadata": {
        "colab": {
          "base_uri": "https://localhost:8080/",
          "height": 676
        },
        "id": "tuSaUxXicVrT",
        "outputId": "bd3d8538-90bf-4c6f-a173-47a5ff0496a2"
      },
      "execution_count": null,
      "outputs": [
        {
          "output_type": "display_data",
          "data": {
            "text/plain": [
              "<Figure size 1300x800 with 2 Axes>"
            ],
            "image/png": "[encoded data removed]"
          },
          "metadata": {}
        }
      ]
    },
    {
      "cell_type": "code",
      "source": [
        "import numpy as np\n",
        "from sklearn.model_selection import train_test_split\n",
        "from sklearn.metrics import accuracy_score, precision_score, recall_score\n",
        "\n",
        "x = data[[\"genero\", \"estado_civil\", \"total_de_hijos\", \"escolaridad\", \"ocupacion\"]]\n",
        "y = data[\"miembro\"]\n",
        "\n",
        "SEED = 158020\n",
        "np.random.seed(SEED)\n",
        "\n",
        "train_x, test_x, train_y, test_y = train_test_split(x, y, test_size = 0.3, stratify = y)\n",
        "\n",
        "print(\"Entrenaremos con %d elementos y evaluaremos con %d elementos\" %(len(train_x), len(test_y)))"
      ],
      "metadata": {
        "colab": {
          "base_uri": "https://localhost:8080/"
        },
        "id": "XqhAVZXVlhaJ",
        "outputId": "3e7d61d2-3733-48a2-f095-81c13f0426bf"
      },
      "execution_count": null,
      "outputs": [
        {
          "output_type": "stream",
          "name": "stdout",
          "text": [
            "Entrenaremos con 12964 elementos y evaluaremos con 5556 elementos\n"
          ]
        }
      ]
    },
    {
      "cell_type": "markdown",
      "source": [
        "##Modelo de arbol"
      ],
      "metadata": {
        "id": "O0HR9-YnCRJH"
      }
    },
    {
      "cell_type": "code",
      "source": [
        "from sklearn.tree import DecisionTreeClassifier\n",
        "\n",
        "SEED = 1420\n",
        "np.random.seed(SEED)\n",
        "\n",
        "modelo = DecisionTreeClassifier(max_depth=5)\n",
        "modelo.fit(train_x, train_y)\n",
        "\n",
        "predicciones = modelo.predict(test_x)\n",
        "\n",
        "accuracy = accuracy_score(test_y, predicciones) * 100\n",
        "precision = precision_score(test_y, predicciones, average='weighted') * 100\n",
        "recall = recall_score(test_y, predicciones, average='weighted') * 100\n",
        "\n",
        "print(\"La exactitud(accuracy) fue %.2f%%\" % accuracy)\n",
        "print(\"La presicion(presicion) fue %.2f%%\" % precision)\n",
        "print(\"La sensitividad(recall) fue %.2f%%\" % recall)"
      ],
      "metadata": {
        "colab": {
          "base_uri": "https://localhost:8080/"
        },
        "id": "DqPdaMWzdb8D",
        "outputId": "fc854553-27a6-4734-d276-0c51d80821d8"
      },
      "execution_count": null,
      "outputs": [
        {
          "output_type": "stream",
          "name": "stdout",
          "text": [
            "La exactitud(accuracy) fue 74.19%\n",
            "La presicion(presicion) fue 70.19%\n",
            "La sensitividad(recall) fue 74.19%\n"
          ]
        }
      ]
    },
    {
      "cell_type": "markdown",
      "source": [
        "##Modelo SVC"
      ],
      "metadata": {
        "id": "t1J6A1EI93Ia"
      }
    },
    {
      "cell_type": "code",
      "source": [
        "from sklearn.preprocessing import StandardScaler\n",
        "from sklearn.svm import SVC\n",
        "\n",
        "# Estandarizar valores\n",
        "scaler = StandardScaler()\n",
        "scaler.fit(train_x)\n",
        "\n",
        "train_x = scaler.transform(train_x)\n",
        "test_x = scaler.transform(test_x)\n",
        "\n",
        "# Crea el modelo de clasificación\n",
        "modelSVC = SVC()\n",
        "\n",
        "# Entrena el modelo con los datos de entrenamiento\n",
        "modelSVC.fit(train_x, train_y)\n",
        "\n",
        "# Realiza predicciones en el conjunto de prueba\n",
        "predicciones = modelSVC.predict(test_x)\n",
        "\n",
        "# Evalúa el modelo utilizando la exactitud, precisión y sensitividad\n",
        "accuracy = accuracy_score(test_y, predicciones) * 100\n",
        "precision = precision_score(test_y, predicciones, average='weighted') * 100\n",
        "recall = recall_score(test_y, predicciones, average='weighted') * 100\n",
        "\n",
        "print(\"La exactitud(accuracy) fue %.2f%%\" % accuracy)\n",
        "print(\"La presicion(presicion) fue %.2f%%\" % precision)\n",
        "print(\"La sensitividad(recall) fue %.2f%%\" % recall)"
      ],
      "metadata": {
        "id": "-WyNxOCIlfTU",
        "colab": {
          "base_uri": "https://localhost:8080/"
        },
        "outputId": "01228b04-8094-4169-a29a-f44872c4f7dc"
      },
      "execution_count": null,
      "outputs": [
        {
          "output_type": "stream",
          "name": "stdout",
          "text": [
            "La exactitud(accuracy) fue 74.32%\n",
            "La presicion(presicion) fue 63.92%\n",
            "La sensitividad(recall) fue 74.32%\n"
          ]
        },
        {
          "output_type": "stream",
          "name": "stderr",
          "text": [
            "/usr/local/lib/python3.10/dist-packages/sklearn/metrics/_classification.py:1344: UndefinedMetricWarning: Precision is ill-defined and being set to 0.0 in labels with no predicted samples. Use `zero_division` parameter to control this behavior.\n",
            "  _warn_prf(average, modifier, msg_start, len(result))\n"
          ]
        }
      ]
    },
    {
      "cell_type": "markdown",
      "source": [
        "##Modelo Lineal"
      ],
      "metadata": {
        "id": "LJcrM52JA5qH"
      }
    },
    {
      "cell_type": "code",
      "source": [
        "from sklearn.svm import LinearSVC\n",
        "\n",
        "# Crea el modelo de clasificación\n",
        "modelLineal = LinearSVC()\n",
        "\n",
        "# Entrena el modelo con los datos de entrenamiento\n",
        "modelLineal.fit(train_x, train_y)\n",
        "\n",
        "# Realiza predicciones en el conjunto de prueba\n",
        "predicciones = modelLineal.predict(test_x)\n",
        "\n",
        "# Evalúa el modelo utilizando la exactitud, precisión y sensitividad\n",
        "accuracy = accuracy_score(test_y, predicciones) * 100\n",
        "precision = precision_score(test_y, predicciones, average='weighted') * 100\n",
        "recall = recall_score(test_y, predicciones, average='weighted') * 100\n",
        "\n",
        "print(\"La exactitud(accuracy) fue %.2f%%\" % accuracy)\n",
        "print(\"La presicion(presicion) fue %.2f%%\" % precision)\n",
        "print(\"La sensitividad(recall) fue %.2f%%\" % recall)\n"
      ],
      "metadata": {
        "colab": {
          "base_uri": "https://localhost:8080/"
        },
        "id": "Og6OuFDQ95Rj",
        "outputId": "e3951eee-ba29-4e6e-9ab7-c8bc38967db7"
      },
      "execution_count": null,
      "outputs": [
        {
          "output_type": "stream",
          "name": "stdout",
          "text": [
            "La exactitud(accuracy) fue 72.66%\n",
            "La presicion(presicion) fue 61.78%\n",
            "La sensitividad(recall) fue 72.66%\n"
          ]
        },
        {
          "output_type": "stream",
          "name": "stderr",
          "text": [
            "/usr/local/lib/python3.10/dist-packages/sklearn/metrics/_classification.py:1344: UndefinedMetricWarning: Precision is ill-defined and being set to 0.0 in labels with no predicted samples. Use `zero_division` parameter to control this behavior.\n",
            "  _warn_prf(average, modifier, msg_start, len(result))\n"
          ]
        }
      ]
    },
    {
      "cell_type": "markdown",
      "source": [
        "## Grafico de arbol del modelo"
      ],
      "metadata": {
        "id": "Utnm9u4yDzEk"
      }
    },
    {
      "cell_type": "code",
      "source": [
        "from sklearn.tree import export_graphviz\n",
        "import graphviz\n",
        "\n",
        "features = data[\"miembro\"]\n",
        "\n",
        "X = data[[\"genero\", \"estado_civil\", \"total_de_hijos\", \"escolaridad\", \"ocupacion\"]]\n",
        "\n",
        "features = X.columns\n",
        "dot_data = export_graphviz(modelo, feature_names = features)\n",
        "grafico = graphviz.Source(dot_data)\n",
        "\n",
        "grafico"
      ],
      "metadata": {
        "id": "AAbA9R_HA7wh"
      },
      "execution_count": null,
      "outputs": []
    },
    {
      "cell_type": "code",
      "source": [],
      "metadata": {
        "id": "FVDboJUMEeb9"
      },
      "execution_count": null,
      "outputs": []
    }
  ]
}